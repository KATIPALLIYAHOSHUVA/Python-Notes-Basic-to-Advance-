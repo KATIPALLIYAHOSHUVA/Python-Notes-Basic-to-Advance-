{
  "nbformat": 4,
  "nbformat_minor": 0,
  "metadata": {
    "colab": {
      "provenance": [],
      "include_colab_link": true
    },
    "kernelspec": {
      "name": "python3",
      "display_name": "Python 3"
    },
    "language_info": {
      "name": "python"
    }
  },
  "cells": [
    {
      "cell_type": "markdown",
      "metadata": {
        "id": "view-in-github",
        "colab_type": "text"
      },
      "source": [
        "<a href=\"https://colab.research.google.com/github/KATIPALLIYAHOSHUVA/Python-Notes-Basic-to-Advance-/blob/main/pyhton_intro.ipynb\" target=\"_parent\"><img src=\"https://colab.research.google.com/assets/colab-badge.svg\" alt=\"Open In Colab\"/></a>"
      ]
    },
    {
      "cell_type": "code",
      "source": [

        "#1. What is Python?\n",
        "'''A. High-level Programming Language\n",
        "B. General purpose\n",
        "c. Object oriented programmin language\n",
        "Python is case sensitive\n",
        "d. dynamically typed'''\n",
        "\n",
        "#---> single line of code\n",
        "\"\"\" i am using for\n",
        "multiline of code\"\"\""
      ],
      "metadata": {
        "id": "bsX4P5DZjr6A"
      },
      "execution_count": null,
      "outputs": []
    },
    {
      "cell_type": "code",
      "execution_count": null,
      "metadata": {
        "colab": {
          "base_uri": "https://localhost:8080/"
        },
        "id": "IaSw7JcsixpO",
        "outputId": "5ff00467-114c-48f4-a79a-83d4ddef7d4a"
      },
      "outputs": [
        {
          "output_type": "stream",
          "name": "stdout",
          "text": [
            "Hello, world!\n"
          ]
        }
      ],
      "source": [
        "#---> 'ctrl + /(forward slash)'  gives you make comment at desired range of code lines\n",
        "# print('Hello, world!')\n",
        "# a = 10\n",
        "# b = 20\n",
        "# c = 30"
      ]
    },
    {
      "cell_type": "code",
      "source": [
        "#1st programming in python\n",
        "print('Hello, world!')"
      ],
      "metadata": {
        "colab": {
          "base_uri": "https://localhost:8080/"
        },
        "id": "IZB18vifjUuM",
        "outputId": "dd4e5ee9-78fe-4933-b88e-31a7d63b01f5"
      },
      "execution_count": null,
      "outputs": [
        {
          "output_type": "stream",
          "name": "stdout",
          "text": [
            "Hello, world!\n"
          ]
        }
      ]
    },
    {
      "cell_type": "markdown",
      "source": [
        "#Numbers"
      ],
      "metadata": {
        "id": "XhF4Yy5vlLNo"
      }
    },
    {
      "cell_type": "code",
      "source": [
        "#There are 3 types of numerical data types\n",
        "\"\"\"1. integer--->whole number, +ve or -ve, without decimals\n",
        "  2. Float--->with decimals\n",
        "  3.complex----> \"\"\""
      ],
      "metadata": {
        "id": "-qGavqetlAgC"
      },
      "execution_count": null,
      "outputs": []
    },
    {
      "cell_type": "code",
      "source": [
        "#1. integer--->whole number, +ve or -ve, without decimals\n",
        "print(10 + 2)   #---->\n",
        "print(10 - 5)\n",
        "#how to know what data type it is?\n",
        "\n",
        "print(type(10 + 2))"
      ],
      "metadata": {
        "colab": {
          "base_uri": "https://localhost:8080/"
        },
        "id": "Hu9o4y4al_-9",
        "outputId": "26633b3f-8e0e-4a6e-afdb-6268a2d9c9cb"
      },
      "execution_count": null,
      "outputs": [
        {
          "output_type": "stream",
          "name": "stdout",
          "text": [
            "12\n",
            "5\n",
            "<class 'int'>\n"
          ]
        }
      ]
    },
    {
      "cell_type": "code",
      "source": [
        "#2. Float--->with decimals POINT either -ve or +ve\n",
        "print(10.9)\n",
        "print(20.5)\n",
        "print(type(10.9))\n",
        "print(type(20.5))"
      ],
      "metadata": {
        "colab": {
          "base_uri": "https://localhost:8080/"
        },
        "id": "fUoeZDMKeMde",
        "outputId": "053fa4e5-38df-4e28-a3a8-4d3a051d50fe"
      },
      "execution_count": null,
      "outputs": [
        {
          "output_type": "stream",
          "name": "stdout",
          "text": [
            "10.9\n",
            "20.5\n",
            "<class 'float'>\n",
            "<class 'float'>\n"
          ]
        }
      ]
    },
    {
      "cell_type": "code",
      "source": [
        "#complex number:-A number which has the imaginary part\n",
        "#for ex:- 10 + 5j   #j----->iota--->value of j it is square root -1\n",
        "print(10.9j)\n",
        "print(type(10.9j))\n"
      ],
      "metadata": {
        "colab": {
          "base_uri": "https://localhost:8080/"
        },
        "id": "OgSCwKnEfR6s",
        "outputId": "0991cc19-0dc1-45b4-ffcb-41d9f1a48288"
      },
      "execution_count": null,
      "outputs": [
        {
          "output_type": "stream",
          "name": "stdout",
          "text": [
            "10.9j\n",
            "<class 'complex'>\n"
          ]
        }
      ]
    },
    {
      "cell_type": "code",
      "source": [
        "#Arthematic operators\n",
        "#There are 7 AO\n",
        "#1. Addition---->+\n",
        "#2.subtraction--->-\n",
        "#3.multiplication---->*\n",
        "#4.divison---->/\n",
        "print(10 + 5)\n",
        "print(10 - 5)\n",
        "print(10 / 5)\n",
        "print(10 * 5)\n"
      ],
      "metadata": {
        "colab": {
          "base_uri": "https://localhost:8080/"
        },
        "id": "UGb81ui2h-_I",
        "outputId": "994623d8-9eee-4e83-d19b-4bcad8e7eff8"
      },
      "execution_count": null,
      "outputs": [
        {
          "output_type": "stream",
          "name": "stdout",
          "text": [
            "15\n",
            "5\n",
            "2.0\n",
            "50\n"
          ]
        }
      ]
    },
    {
      "cell_type": "code",
      "source": [
        "#5 Modulus:-remainder of a division operation--->%\n",
        "print(10 % 5)\n",
        "print(10 % 6)\n",
        "print(10 % 8)\n",
        "\n",
        "#find weather a given number is even or odd?\n",
        "print(15 % 2)"
      ],
      "metadata": {
        "colab": {
          "base_uri": "https://localhost:8080/"
        },
        "id": "A1FkuAu7kUlv",
        "outputId": "7709e707-a941-4757-8f45-ca8541323a76"
      },
      "execution_count": null,
      "outputs": [
        {
          "output_type": "stream",
          "name": "stdout",
          "text": [
            "0\n",
            "4\n",
            "2\n",
            "1\n"
          ]
        }
      ]
    },
    {
      "cell_type": "code",
      "source": [
        "#6 exponential:-to the power of ---> **\n",
        "\n",
        "print(2 ** 2)\n",
        "print(2 ** 5)\n"
      ],
      "metadata": {
        "colab": {
          "base_uri": "https://localhost:8080/"
        },
        "id": "3VamXlwplDif",
        "outputId": "054d3f94-d0bd-4a94-8d96-22d87c836cab"
      },
      "execution_count": null,
      "outputs": [
        {
          "output_type": "stream",
          "name": "stdout",
          "text": [
            "4\n",
            "32\n"
          ]
        }
      ]
    },
    {
      "cell_type": "code",
      "source": [
        "#7 floor division:--->//--->nothing but divison but ignores all the values after the decimal point\n",
        "print(10 / 3)\n",
        "print(10 // 3)\n",
        "\n",
        "print(10 / 5.2)\n",
        "print(10 // 5.2)"
      ],
      "metadata": {
        "colab": {
          "base_uri": "https://localhost:8080/"
        },
        "id": "sL_GSNqdmRTw",
        "outputId": "f23f84d5-8633-479d-cb6d-9d4861f128ab"
      },
      "execution_count": null,
      "outputs": [
        {
          "output_type": "stream",
          "name": "stdout",
          "text": [
            "3.3333333333333335\n",
            "3\n",
            "1.923076923076923\n",
            "1.0\n"
          ]
        }
      ]
    },
    {
      "cell_type": "code",
      "source": [
        "print((50/100) * 100)"
      ],
      "metadata": {
        "colab": {
          "base_uri": "https://localhost:8080/"
        },
        "id": "esYeFHHfnX2C",
        "outputId": "ff5912c8-ac61-4467-a0e1-ff58147ab829"
      },
      "execution_count": null,
      "outputs": [
        {
          "output_type": "stream",
          "name": "stdout",
          "text": [
            "50.0\n"
          ]
        }
      ]
    },
    {
      "cell_type": "code",
      "source": [
        "#round()\n",
        "#1.923076923076923\n",
        "print(round(1.923076923076923))\n",
        "print(round(2.5474))\n",
        "print(round(5.25))\n",
        "print(round(3.45))"
      ],
      "metadata": {
        "colab": {
          "base_uri": "https://localhost:8080/"
        },
        "id": "kXRbV59IpT-S",
        "outputId": "b673359b-ab4c-4ce3-ec7f-e0b9ec25d457"
      },
      "execution_count": null,
      "outputs": [
        {
          "output_type": "stream",
          "name": "stdout",
          "text": [
            "2\n",
            "3\n",
            "5\n",
            "3\n"
          ]
        }
      ]
    },
    {
      "cell_type": "code",
      "source": [
        "#getting the specified decimals by using round function\n",
        "print(round(1.923076923076923,2))\n",
        "print(round(2.5474,1))"
      ],
      "metadata": {
        "colab": {
          "base_uri": "https://localhost:8080/"
        },
        "id": "H3b6DbsIqL4G",
        "outputId": "39ad754c-66e8-44ea-eede-b0f72f129e2c"
      },
      "execution_count": null,
      "outputs": [
        {
          "output_type": "stream",
          "name": "stdout",
          "text": [
            "1.92\n",
            "2.5\n"
          ]
        }
      ]
    },
    {
      "cell_type": "markdown",
      "source": [
        "#Variables"
      ],
      "metadata": {
        "id": "ikp1jiK4rckB"
      }
    },
    {
      "cell_type": "code",
      "source": [
        "#Variables:-container where we store data and reuse it\n",
        "#how to create a varible\n",
        "#how to access that varible\n",
        "\n",
        "\"\"\"father age is 40\n",
        "    children age is 1/2\"\"\"\n",
        "\n",
        "\"\"\"Let father age is x\n",
        " children age is 1/2\"\"\"\n",
        "\n",
        "# x = 40\n",
        "# son_age = x / 2\n",
        "# print(son_age)\n",
        "# print('x')\n",
        "\n",
        "#task:- take two variables and do all the 7 AO?\n",
        "a = 10\n",
        "b = 5\n",
        "print(a+b)\n",
        "print(a-b)\n",
        "\n"
      ],
      "metadata": {
        "colab": {
          "base_uri": "https://localhost:8080/"
        },
        "id": "oS0Bw8egqwo2",
        "outputId": "99bef3bb-814f-480b-a5a3-20f4c90f38df"
      },
      "execution_count": null,
      "outputs": [
        {
          "output_type": "stream",
          "name": "stdout",
          "text": [
            "20.0\n",
            "x\n"
          ]
        }
      ]
    },
    {
      "cell_type": "markdown",
      "source": [
        "#Errors"
      ],
      "metadata": {
        "id": "jpUxLNdRtYQd"
      }
    },
    {
      "cell_type": "code",
      "source": [
        "#two types of errors\n",
        "#1.syntex error--->if we break rules of programming language then it ll rise syntex error\n",
        "#2.logical error---->none other than syntax error"
      ],
      "metadata": {
        "id": "1FSeMzfktXXK"
      },
      "execution_count": null,
      "outputs": []
    },
    {
      "cell_type": "code",
      "source": [
        "#Rules we need to follow for writing a variable\n",
        "#1.Must start with letters\n",
        "x = 100\n",
        "print(x)\n",
        "\n",
        "#2.it should not start with numbers\n",
        "\n",
        "# 3 = \"shahul\"\n",
        "# print(3)\n",
        "\n",
        "#3.if follow the rule 1 and 2 you can useletters, numbers, underscore\n",
        "_2jshgdjsh = 10\n",
        "print(_2jshgdjsh)\n",
        "\n",
        "name = \"shahul\"\n",
        "age = 27\n",
        "print(name)\n",
        "print(age)\n",
        "\n",
        "#4.variable names are case sensitive\n"
      ],
      "metadata": {
        "id": "SBUb8S7S-yCJ",
        "colab": {
          "base_uri": "https://localhost:8080/"
        },
        "outputId": "c73928a6-a306-4ba0-a5fd-4bfbb436c098"
      },
      "execution_count": null,
      "outputs": [
        {
          "output_type": "stream",
          "name": "stdout",
          "text": [
            "100\n",
            "10\n",
            "shahul\n",
            "27\n"
          ]
        }
      ]
    },
    {
      "cell_type": "code",
      "source": [
        "#4.variable names are case sensitive\n",
        "\n",
        "a = 10\n",
        "print(a)\n",
        "print(A)"
      ],
      "metadata": {
        "id": "7r2ja7S3D0vx"
      },
      "execution_count": null,
      "outputs": []
    },
    {
      "cell_type": "code",
      "source": [
        "#d. dynamically typed:-you are not defining the data in programming\n",
        "#what is dynamically typed and what is statistically typed?\n"
      ],
      "metadata": {
        "id": "aGSg-53BED7p"
      },
      "execution_count": null,
      "outputs": []
    },
    {
      "cell_type": "code",
      "source": [
        "#dynamically typed\n",
        "A = 10\n",
        "print(A)"
      ],
      "metadata": {
        "colab": {
          "base_uri": "https://localhost:8080/"
        },
        "id": "iv2izO2fFAB6",
        "outputId": "ddaf207d-09a6-449e-d376-41a58069e02c"
      },
      "execution_count": null,
      "outputs": [
        {
          "output_type": "stream",
          "name": "stdout",
          "text": [
            "10\n"
          ]
        }
      ]
    },
    {
      "cell_type": "code",
      "source": [
        "a = 4 + 5j\n",
        "print(a)\n",
        "print(type(a))"
      ],
      "metadata": {
        "colab": {
          "base_uri": "https://localhost:8080/"
        },
        "id": "mI3sqwpmFnAG",
        "outputId": "1ce0ff86-0a1e-4300-8856-b4ef711fae68"
      },
      "execution_count": null,
      "outputs": [
        {
          "output_type": "stream",
          "name": "stdout",
          "text": [
            "4.46\n",
            "<class 'float'>\n"
          ]
        }
      ]
    },
    {
      "cell_type": "code",
      "source": [
        "#write multiple values to multiple varibles?\n",
        "a, b, c = 10, 20 ,30\n",
        "# print(a)\n",
        "# print(b)\n",
        "# print(c)\n",
        "print(a, b, c, sep=\"\\n\")   #sep=\"\\n\"--->to print the output in separate lines"
      ],
      "metadata": {
        "colab": {
          "base_uri": "https://localhost:8080/"
        },
        "id": "ZCNHmvOGGCM-",
        "outputId": "65a6e93b-149f-49cb-b65a-e84f54eac448"
      },
      "execution_count": null,
      "outputs": [
        {
          "output_type": "stream",
          "name": "stdout",
          "text": [
            "10\n",
            "20\n",
            "30\n"
          ]
        }
      ]
    },
    {
      "cell_type": "code",
      "source": [
        "#write/assign one values to multiple varibles?\n",
        "a = 10\n",
        "b = 10\n",
        "c = 10\n",
        "print(a,b,c, sep=\"\\n\")\n",
        "\n",
        "a = b = c = 10\n",
        "print(a,b,c, sep=\"\\n\")\n"
      ],
      "metadata": {
        "id": "1hXi43jjGZva"
      },
      "execution_count": null,
      "outputs": []
    },
    {
      "cell_type": "code",
      "source": [
        "# what is input()?\n",
        "\n",
        "# how to take an input()?\n",
        "# What is the default data type for input()?\n",
        "\n",
        "x = input()\n",
        "print(x)\n",
        "print(type(x))"
      ],
      "metadata": {
        "colab": {
          "base_uri": "https://localhost:8080/"
        },
        "id": "3ZS7YTlfHhSo",
        "outputId": "eb04db63-00b7-4dd8-fb7e-e9ac438c2c21"
      },
      "execution_count": null,
      "outputs": [
        {
          "output_type": "stream",
          "name": "stdout",
          "text": [
            "5\n",
            "5\n",
            "<class 'str'>\n"
          ]
        }
      ]
    },
    {
      "cell_type": "code",
      "source": [
        "x = int(input())\n",
        "y = input()\n",
        "z = float(input())\n",
        "\n",
        "\n",
        "print(x)\n",
        "print(type(x))\n",
        "\n",
        "print(y)\n",
        "print(type(y))\n",
        "\n",
        "print(z)\n",
        "print(type(z))\n",
        "\n",
        "print(a)\n",
        "print(type(a))"
      ],
      "metadata": {
        "colab": {
          "base_uri": "https://localhost:8080/"
        },
        "id": "TCE31T1cIjtl",
        "outputId": "3765ff6e-6074-4544-d0c5-30e947c6db01"
      },
      "execution_count": null,
      "outputs": [
        {
          "output_type": "stream",
          "name": "stdout",
          "text": [
            "10\n",
            "hello\n",
            "2.5\n",
            "10\n",
            "<class 'int'>\n",
            "hello\n",
            "<class 'str'>\n",
            "2.5\n",
            "<class 'float'>\n",
            "10\n",
            "<class 'int'>\n"
          ]
        }
      ]
    },
    {
      "cell_type": "markdown",
      "source": [
        "#Strings"
      ],
      "metadata": {
        "id": "XCa95rARr8Ei"
      }
    },
    {
      "cell_type": "code",
      "source": [
        "#What is string?\n",
        "#is an collection of multiple characters being takenup.\n",
        "#how can we declare a string?\n",
        "#(\"\")('')\n",
        "print(\"Hello world!\")"
      ],
      "metadata": {
        "id": "yT9n4WqEKXkb",
        "colab": {
          "base_uri": "https://localhost:8080/"
        },
        "outputId": "1408d83d-5a63-4bc6-ef26-e6b48e02a5f7"
      },
      "execution_count": null,
      "outputs": [
        {
          "output_type": "stream",
          "name": "stdout",
          "text": [
            "Hello world!\n"
          ]
        }
      ]
    },
    {
      "cell_type": "code",
      "source": [
        "#if i want to print a mail how can we do it\n",
        "print(\"\"\"Respected whoever,\n",
        "I hope this letter finds you in good health and happiness,\n",
        "     Thank anf regards,\n",
        "      python programming\"\"\")"
      ],
      "metadata": {
        "id": "DzC1sBjLtSVL"
      },
      "execution_count": null,
      "outputs": []
    },
    {
      "cell_type": "code",
      "source": [
        "txt = \"hello world!\"\n",
        "print(txt)\n",
        "print(len(txt))"
      ],
      "metadata": {
        "colab": {
          "base_uri": "https://localhost:8080/"
        },
        "id": "uOjhUV--uTm6",
        "outputId": "31b7f2dc-0b66-4385-a0bd-462453dc6515"
      },
      "execution_count": null,
      "outputs": [
        {
          "output_type": "stream",
          "name": "stdout",
          "text": [
            "hello world!\n",
            "12\n"
          ]
        }
      ]
    },
    {
      "cell_type": "code",
      "source": [
        "#printing only \"o\"\n",
        "#indexing:-means using index number to access the each character in a string\n",
        "#[start]\n",
        "txt = \"hello world!\"\n",
        "print(len(txt))\n",
        "print(txt[4])"
      ],
      "metadata": {
        "colab": {
          "base_uri": "https://localhost:8080/"
        },
        "id": "MpubTto9uro9",
        "outputId": "ff021414-2313-49a2-b18b-b7f68471a9f4"
      },
      "execution_count": null,
      "outputs": [
        {
          "output_type": "stream",
          "name": "stdout",
          "text": [
            "12\n",
            "o\n"
          ]
        }
      ]
    },
    {
      "cell_type": "code",
      "source": [
        "#print lo wo in a string..? printing range of characters?\n",
        "#syntex:- [start:end]\n",
        "\n",
        "txt = \"hello world!\"\n",
        "print(len(txt))\n",
        "print(txt[3:8]) #printing range of characters in a string---> end value has to be (n + 1)"
      ],
      "metadata": {
        "colab": {
          "base_uri": "https://localhost:8080/"
        },
        "id": "AJjIjWXawEqJ",
        "outputId": "eda69758-50ba-4bf0-9319-d180f601c28e"
      },
      "execution_count": null,
      "outputs": [
        {
          "output_type": "stream",
          "name": "stdout",
          "text": [
            "12\n",
            "lo wo\n"
          ]
        }
      ]
    },
    {
      "cell_type": "code",
      "source": [
        "#task: lets take a string(\"hello every one good afternoon!\") and print range of characters that dispalys?\n",
        "#input:(\"hello every one good afternoon!\")\n",
        "#outputt: e good af"
      ],
      "metadata": {
        "id": "6HCamt0TxB_C"
      },
      "execution_count": null,
      "outputs": []
    },
    {
      "cell_type": "code",
      "source": [
        "#3rd type of slicing\n",
        "#syntex:-[start:end:step]\n",
        "txt_2 = \"hello every one good afternoon!\"\n",
        "print(len(txt_2))\n",
        "print(txt_2[0:30:2])\n"
      ],
      "metadata": {
        "colab": {
          "base_uri": "https://localhost:8080/"
        },
        "id": "v9D35jPpxeD6",
        "outputId": "f54282ea-7b36-4abd-f21f-c0a02f18a8d7"
      },
      "execution_count": null,
      "outputs": [
        {
          "output_type": "stream",
          "name": "stdout",
          "text": [
            "31\n",
            "hloeeyoego feno\n"
          ]
        }
      ]
    },
    {
      "cell_type": "code",
      "source": [
        "txt_2 = \"hello every one good afternoon!\"\n",
        "print(txt_2[::-1])"
      ],
      "metadata": {
        "colab": {
          "base_uri": "https://localhost:8080/"
        },
        "id": "2DSC3UxCy9iZ",
        "outputId": "e83cc5b5-06c0-4123-e3af-fcd8a690a5c0"
      },
      "execution_count": null,
      "outputs": [
        {
          "output_type": "stream",
          "name": "stdout",
          "text": [
            "!noonretfa doog eno yreve olleh\n"
          ]
        }
      ]
    },
    {
      "cell_type": "code",
      "source": [
        "txt = \"hello world!\"\n",
        "print(len(txt))\n",
        "print(txt[::])"
      ],
      "metadata": {
        "colab": {
          "base_uri": "https://localhost:8080/"
        },
        "id": "j8bJRq2hzJFw",
        "outputId": "151e781d-903b-4bc0-af58-5eb8e5863dff"
      },
      "execution_count": null,
      "outputs": [
        {
          "output_type": "stream",
          "name": "stdout",
          "text": [
            "12\n",
            "hello world!\n"
          ]
        }
      ]
    },
    {
      "cell_type": "code",
      "source": [
        "#What is negative indexing?\n",
        "txt = \"hello world!\"\n",
        "print(len(txt))\n",
        "print(txt[:])"
      ],
      "metadata": {
        "colab": {
          "base_uri": "https://localhost:8080/"
        },
        "id": "ZjKLC3hUzVlv",
        "outputId": "c3b120a3-64dd-46e7-9f0e-8c6ee25c446f"
      },
      "execution_count": null,
      "outputs": [
        {
          "output_type": "stream",
          "name": "stdout",
          "text": [
            "12\n",
            "hello world!\n"
          ]
        }
      ]
    },
    {
      "cell_type": "code",
      "source": [
        "txt = \"hello world!\"\n",
        "print(len(txt))\n",
        "print(txt[-4:-10:-1])"
      ],
      "metadata": {
        "colab": {
          "base_uri": "https://localhost:8080/"
        },
        "id": "aBOZ6GBIzZLH",
        "outputId": "5fe2d9ee-5feb-49c8-d6c1-0fe160b9fc6c"
      },
      "execution_count": null,
      "outputs": [
        {
          "output_type": "stream",
          "name": "stdout",
          "text": [
            "12\n",
            "row ol\n"
          ]
        }
      ]
    },
    {
      "cell_type": "code",
      "source": [
        "txt = \"hello world!\"\n",
        "print(len(txt))\n",
        "print(txt[:])"
      ],
      "metadata": {
        "id": "qlAQ86280xLT"
      },
      "execution_count": null,
      "outputs": []
    },
    {
      "cell_type": "code",
      "source": [
        "txt = \"hello world!\"\n",
        "print(len(txt))\n",
        "print(txt[3:-2]) # end value is n+1"
      ],
      "metadata": {
        "colab": {
          "base_uri": "https://localhost:8080/"
        },
        "id": "uSdGonYX05Dw",
        "outputId": "11cb8852-d419-48a0-8d0e-2c3c26f66426"
      },
      "execution_count": null,
      "outputs": [
        {
          "output_type": "stream",
          "name": "stdout",
          "text": [
            "12\n",
            "lo worl\n"
          ]
        }
      ]
    },
    {
      "cell_type": "code",
      "source": [
        "#checking the palindrome string\n",
        "a = \"mopedo\"\n",
        "print(a[::-1])\n",
        "\n",
        "b = \"malayalam\"\n",
        "print(b[::-1])\n",
        "\n",
        "c = \"madam\"\n",
        "print(c[::-1])"
      ],
      "metadata": {
        "colab": {
          "base_uri": "https://localhost:8080/"
        },
        "id": "W-OGPvmS1WGq",
        "outputId": "22bbae0f-6226-4fde-cf14-3d233acb3550"
      },
      "execution_count": null,
      "outputs": [
        {
          "output_type": "stream",
          "name": "stdout",
          "text": [
            "odepom\n",
            "malayalam\n",
            "madam\n"
          ]
        }
      ]
    },
    {
      "cell_type": "code",
      "source": [
        "#to check what are all the different menthods available for a objcet or code?\n",
        "#what is a directory function?\n",
        "#Ans)This dir() tell you what are all the different methods we run\n",
        "x = \"Hello World!\"\n",
        "print(dir(x))\n"
      ],
      "metadata": {
        "colab": {
          "base_uri": "https://localhost:8080/"
        },
        "id": "CXGAPg1Tzuol",
        "outputId": "b7803ee0-dba0-4e9b-8b8f-f65b854e51fd"
      },
      "execution_count": null,
      "outputs": [
        {
          "output_type": "stream",
          "name": "stdout",
          "text": [
            "['__add__', '__class__', '__contains__', '__delattr__', '__dir__', '__doc__', '__eq__', '__format__', '__ge__', '__getattribute__', '__getitem__', '__getnewargs__', '__gt__', '__hash__', '__init__', '__init_subclass__', '__iter__', '__le__', '__len__', '__lt__', '__mod__', '__mul__', '__ne__', '__new__', '__reduce__', '__reduce_ex__', '__repr__', '__rmod__', '__rmul__', '__setattr__', '__sizeof__', '__str__', '__subclasshook__', 'capitalize', 'casefold', 'center', 'count', 'encode', 'endswith', 'expandtabs', 'find', 'format', 'format_map', 'index', 'isalnum', 'isalpha', 'isascii', 'isdecimal', 'isdigit', 'isidentifier', 'islower', 'isnumeric', 'isprintable', 'isspace', 'istitle', 'isupper', 'join', 'ljust', 'lower', 'lstrip', 'maketrans', 'partition', 'removeprefix', 'removesuffix', 'replace', 'rfind', 'rindex', 'rjust', 'rpartition', 'rsplit', 'rstrip', 'split', 'splitlines', 'startswith', 'strip', 'swapcase', 'title', 'translate', 'upper', 'zfill']\n"
          ]
        }
      ]
    },
    {
      "cell_type": "code",
      "source": [
        "#capitalize\n",
        "print(x.capitalize())\n",
        "#lower\n",
        "print(x.lower())\n",
        "#upper\n",
        "print(x.upper())\n",
        "#lstrip\n",
        "y = \"     Hello world!    \"\n",
        "print(y)\n",
        "print(y.lstrip())\n",
        "#rstrip\n",
        "#split\n",
        "#strip\n",
        "#title\n",
        "#replace\n",
        "#swapcase"
      ],
      "metadata": {
        "colab": {
          "base_uri": "https://localhost:8080/"
        },
        "id": "vTmFXVe23gSF",
        "outputId": "1182039d-b9eb-4571-f660-bdbc9b855760"
      },
      "execution_count": null,
      "outputs": [
        {
          "output_type": "stream",
          "name": "stdout",
          "text": [
            "Hello world!\n",
            "hello world!\n",
            "HELLO WORLD!\n",
            "     Hello World!\n",
            "Hello World!\n"
          ]
        }
      ]
    },
    {
      "cell_type": "code",
      "source": [
        "y = \"Hello world\"\n",
        "print(y)\n",
        "print(y.lstrip())"
      ],
      "metadata": {
        "colab": {
          "base_uri": "https://localhost:8080/"
        },
        "id": "0TvD8Kpo47aq",
        "outputId": "82c40372-3339-4124-84a3-a1c5371785b6"
      },
      "execution_count": null,
      "outputs": [
        {
          "output_type": "stream",
          "name": "stdout",
          "text": [
            "Hello world\n",
            "<built-in method lstrip of str object at 0x79f3d76816b0>\n"
          ]
        }
      ]
    },
    {
      "cell_type": "code",
      "source": [
        "#Format()--->{}\n",
        "a = 'hello'\n",
        "b = 'world'\n",
        "c = a +' '+b  #--->+-->concatination\n",
        "print(c)"
      ],
      "metadata": {
        "colab": {
          "base_uri": "https://localhost:8080/"
        },
        "id": "_rZ773Wz5Xwg",
        "outputId": "da09c31a-3ed8-41be-89c2-7a437350af52"
      },
      "execution_count": null,
      "outputs": [
        {
          "output_type": "stream",
          "name": "stdout",
          "text": [
            "hello world\n"
          ]
        }
      ]
    },
    {
      "cell_type": "code",
      "source": [
        "#how can i print my age is 10?\n",
        "age = 10\n",
        "txt = 'my age is'\n",
        "print(txt,age)"
      ],
      "metadata": {
        "colab": {
          "base_uri": "https://localhost:8080/"
        },
        "id": "JwQnTsQbyE1w",
        "outputId": "51295d74-1a66-4593-ce0f-df0abf131023"
      },
      "execution_count": null,
      "outputs": [
        {
          "output_type": "stream",
          "name": "stdout",
          "text": [
            "my age is 10\n"
          ]
        }
      ]
    },
    {
      "cell_type": "code",
      "source": [
        "#what is a format method?\n",
        "#The format method takes an argument format(argument) and that argument is placed in a string where their is a palceholder\n",
        "#3 methods of formating\n",
        "#1st method of formating()\n",
        "age = 10\n",
        "text = 'i am {} years of old'\n",
        "print(text.format(age))\n"
      ],
      "metadata": {
        "colab": {
          "base_uri": "https://localhost:8080/"
        },
        "id": "J7xZtwIq6jX1",
        "outputId": "14aff1a0-9ed9-49f3-a4ad-925c9c2c61e3"
      },
      "execution_count": null,
      "outputs": [
        {
          "output_type": "stream",
          "name": "stdout",
          "text": [
            "i am 10 years of old\n"
          ]
        }
      ]
    },
    {
      "cell_type": "code",
      "source": [
        "#2nd method of formating()-->write format() at the end of string\n",
        "age = 10\n",
        "text = 'i am {} years of old'.format(age)\n",
        "print(text)"
      ],
      "metadata": {
        "colab": {
          "base_uri": "https://localhost:8080/"
        },
        "id": "z-t-AHK97rbG",
        "outputId": "8c52b827-e706-4332-ebc6-915a4d20bbe3"
      },
      "execution_count": null,
      "outputs": [
        {
          "output_type": "stream",
          "name": "stdout",
          "text": [
            "i am 10 years of old\n"
          ]
        }
      ]
    },
    {
      "cell_type": "code",
      "source": [
        "#3rd method of formating()-->keep f before string\n",
        "age = input()\n",
        "text = f'i am {age} years of old'\n",
        "print(text)"
      ],
      "metadata": {
        "colab": {
          "base_uri": "https://localhost:8080/"
        },
        "id": "4qobdg5Q8AqM",
        "outputId": "fee54597-8b33-4df5-c8d6-9341f73120b0"
      },
      "execution_count": null,
      "outputs": [
        {
          "output_type": "stream",
          "name": "stdout",
          "text": [
            "27\n",
            "i am 27 years of old\n"
          ]
        }
      ]
    },
    {
      "cell_type": "code",
      "source": [
        "item = \"product A\"\n",
        "price = 99.99\n",
        "quantity = 10\n",
        "order_conf = \"your order for {} number of {} price at {} is confirmed\".format(quantity,item,price)\n",
        "#print(order_conf.format(quantity,item,price))\n",
        "print(order_conf)"
      ],
      "metadata": {
        "colab": {
          "base_uri": "https://localhost:8080/"
        },
        "id": "ePcEBg7u8oAW",
        "outputId": "de369333-7c77-4c10-a77f-aa591961da12"
      },
      "execution_count": null,
      "outputs": [
        {
          "output_type": "stream",
          "name": "stdout",
          "text": [
            "your order for 10 number of product A price at 99.99 is confirmed\n"
          ]
        }
      ]
    },
    {
      "cell_type": "markdown",
      "source": [
        "#Escape Characters"
      ],
      "metadata": {
        "id": "Id54dN5TTo9W"
      }
    },
    {
      "cell_type": "code",
      "source": [
        "#Escape Character:-when ever you have to print some illegal characters you have to use EC\n",
        "#Dwayne \"THE ROCK\" Jhonson\n",
        "print('hello world')\n",
        "\n",
        "print(\"Dwayne \\\"THE ROCK\\\" Jhonson\")\n",
        "# print(\"He said, \\\"i am not going to use it\\\",she was furious\")"
      ],
      "metadata": {
        "colab": {
          "base_uri": "https://localhost:8080/"
        },
        "id": "-Mdrz1O7Tvku",
        "outputId": "febb16fb-de89-42da-fa28-82a01dd5fbe3"
      },
      "execution_count": null,
      "outputs": [
        {
          "output_type": "stream",
          "name": "stdout",
          "text": [
            "hello world\n",
            "Dwayne \"THE ROCK\" Jhonson\n"
          ]
        }
      ]
    },
    {
      "cell_type": "markdown",
      "source": [
        "#Conditional Statments"
      ],
      "metadata": {
        "id": "L6LGuMEbI1gn"
      }
    },
    {
      "cell_type": "code",
      "source": [
        "#What is comparison operators?\n",
        "#equal ------->==\n",
        "#does not eqaul---> !=\n",
        "#less than----->  <\n",
        "#less than or equal-------> <=\n",
        "#greater than------> >\n",
        "#greater than or equal-----> >=\n",
        "\n",
        "print( 10 == 10)\n",
        "print( 10 != 10)"
      ],
      "metadata": {
        "id": "BMgFvq909u9N",
        "colab": {
          "base_uri": "https://localhost:8080/"
        },
        "outputId": "da1bc1c0-db1d-4478-cd75-d858d298e6dd"
      },
      "execution_count": null,
      "outputs": [
        {
          "output_type": "stream",
          "name": "stdout",
          "text": [
            "True\n",
            "False\n"
          ]
        }
      ]
    },
    {
      "cell_type": "code",
      "source": [
        "print(\"Hello\" == \"Hello\")"
      ],
      "metadata": {
        "colab": {
          "base_uri": "https://localhost:8080/"
        },
        "id": "EPLHmWthKvTg",
        "outputId": "c1e87bb2-c82a-479b-e039-0912f31decd8"
      },
      "execution_count": null,
      "outputs": [
        {
          "output_type": "stream",
          "name": "stdout",
          "text": [
            "True\n"
          ]
        }
      ]
    },
    {
      "cell_type": "code",
      "source": [
        "marks = 45\n",
        "passing = 40\n",
        "if marks >= passing:\n",
        "  print(\"congratulations\")\n",
        "  print(\"you have passed\")\n",
        "  print(f'you have passed with {marks} marks')"
      ],
      "metadata": {
        "colab": {
          "base_uri": "https://localhost:8080/"
        },
        "id": "0ezNuuR6K8y-",
        "outputId": "76dda974-a552-4090-ba06-6c204f6379ad"
      },
      "execution_count": null,
      "outputs": [
        {
          "output_type": "stream",
          "name": "stdout",
          "text": [
            "congratulations\n",
            "you have passed\n",
            "you have passed with 45 marks\n"
          ]
        }
      ]
    },
    {
      "cell_type": "code",
      "source": [
        "marks = 5\n",
        "passing = 40\n",
        "if marks >= passing:\n",
        "  print(\"congratulations\")\n",
        "  print(\"you have passed\")\n",
        "  print(f'you have passed with {marks} marks')\n",
        "else:\n",
        "  print(\"sorry! try again next year\")\n",
        "  print(f'you have filed with {marks} marks')"
      ],
      "metadata": {
        "colab": {
          "base_uri": "https://localhost:8080/"
        },
        "id": "KPBgjzDMMCyJ",
        "outputId": "cd490b06-d8a8-4664-e2b0-6857a425ed3a"
      },
      "execution_count": null,
      "outputs": [
        {
          "output_type": "stream",
          "name": "stdout",
          "text": [
            "sorry! try again next year\n",
            "you have filed with 5 marks\n"
          ]
        }
      ]
    },
    {
      "cell_type": "code",
      "source": [
        "#elif: it states if all the conditions before this not work out try another condition\n",
        "#in b/w if---elif----else\n",
        "\n",
        "#Q)print a number weather it is  +ve, -ve, zero?\n",
        "number = 0\n",
        "if number > 0:\n",
        "  print(\"+ve\")\n",
        "elif number == 0:\n",
        "   print(\"zero\")\n",
        "else:\n",
        "  print(\"-ve\")\n"
      ],
      "metadata": {
        "colab": {
          "base_uri": "https://localhost:8080/"
        },
        "id": "ODfK-tbUNHCe",
        "outputId": "60dcc8dd-278a-4bfb-e1e2-ae3a4e66b947"
      },
      "execution_count": null,
      "outputs": [
        {
          "output_type": "stream",
          "name": "stdout",
          "text": [
            "zero\n"
          ]
        }
      ]
    },
    {
      "cell_type": "code",
      "source": [
        "#logical operators---> and, or, not\n",
        "print(10 == 10)\n",
        "print(not(10 == 10))"
      ],
      "metadata": {
        "colab": {
          "base_uri": "https://localhost:8080/"
        },
        "id": "P6ZgzfQdO2mQ",
        "outputId": "717f95ef-440d-451e-efd8-2480be60a1be"
      },
      "execution_count": null,
      "outputs": [
        {
          "output_type": "stream",
          "name": "stdout",
          "text": [
            "True\n",
            "False\n"
          ]
        }
      ]
    },
    {
      "cell_type": "code",
      "source": [
        "#and:- both conditions are true\n",
        "#or :- any one condition is satisfied\n",
        "a = 10\n",
        "b = 56\n",
        "c = 455\n",
        "\n",
        "if b>a and c>b and c<a:\n",
        "  print(\"both conditions are satisfied\")\n",
        "else:\n",
        "  print(\"conditions are not satisfied\")\n"
      ],
      "metadata": {
        "colab": {
          "base_uri": "https://localhost:8080/"
        },
        "id": "wNQOltotPNiw",
        "outputId": "63fd340b-06aa-464a-93aa-08525f1283d0"
      },
      "execution_count": null,
      "outputs": [
        {
          "output_type": "stream",
          "name": "stdout",
          "text": [
            "conditions are not satisfied\n"
          ]
        }
      ]
    },
    {
      "cell_type": "code",
      "source": [
        "a = 10\n",
        "b = 56\n",
        "c = 455\n",
        "\n",
        "if b>a and c>b or c<a:\n",
        "  print(\"both conditions are satisfied\")\n",
        "else:\n",
        "  print(\"conditions are not satisfied\")\n"
      ],
      "metadata": {
        "colab": {
          "base_uri": "https://localhost:8080/"
        },
        "id": "hARUp-WKQOyA",
        "outputId": "dab5d8bf-5ca7-4679-ec39-df2793600726"
      },
      "execution_count": null,
      "outputs": [
        {
          "output_type": "stream",
          "name": "stdout",
          "text": [
            "both conditions are satisfied\n"
          ]
        }
      ]
    },
    {
      "cell_type": "code",
      "source": [
        "a = 10\n",
        "b = 56\n",
        "c = 455\n",
        "\n",
        "if b == a and c > a and a > 500 and b > 200:\n",
        "  print(\"both conditions are satisfied\")\n",
        "else:\n",
        "  print(\"conditions are not satisfied\")\n"
      ],
      "metadata": {
        "colab": {
          "base_uri": "https://localhost:8080/"
        },
        "id": "XEcQ82CsQdxP",
        "outputId": "3893461f-6653-4427-ac68-730fb158004d"
      },
      "execution_count": null,
      "outputs": [
        {
          "output_type": "stream",
          "name": "stdout",
          "text": [
            "conditions are not satisfied\n"
          ]
        }
      ]
    },
    {
      "cell_type": "code",
      "source": [
        "#Nested Conditions:-\n",
        "a = 35\n",
        " #i will check a is greater than 10 or not\n",
        "if a > 10:\n",
        "  print(\"greater than 10\")\n",
        "  #writing another condition\n",
        "  if a > 20:\n",
        "    print(\"greater than 20\")\n",
        "    if a>30:\n",
        "      print(\"a is greater than 30\")\n",
        "    else:\n",
        "        print(\"not greater than 30\")\n",
        "  else:\n",
        "    print(\"Not greater than 20\")\n",
        "else:\n",
        "  print(\"not greater than 10\")"
      ],
      "metadata": {
        "colab": {
          "base_uri": "https://localhost:8080/"
        },
        "id": "j4v5q44ARJdf",
        "outputId": "16710243-1c89-4a12-e125-3a94b8862a9d"
      },
      "execution_count": null,
      "outputs": [
        {
          "output_type": "stream",
          "name": "stdout",
          "text": [
            "greater than 10\n",
            "greater than 20\n",
            "a is greater than 30\n"
          ]
        }
      ]
    },
    {
      "cell_type": "code",
      "source": [
        "#Sample question on elif marks problem\n",
        "#Nestad\n",
        "marks = int(input())\n",
        "passing = 40\n",
        "#here i am giving grade like\n",
        "#40-60-->D\n",
        "#60-70--->C\n",
        "#70-80--->B\n",
        "#80-100-->A\n",
        "if marks >= passing:\n",
        "  if marks >= 40 and marks <= 60:\n",
        "    print('You have scored D grade')\n",
        "  elif marks >= 61 and marks <= 70:\n",
        "    print('You have scored C grade')\n",
        "  elif marks >= 71 and marks <= 80:\n",
        "    print('You have sored B grade')\n",
        "  elif marks >= 81 and marks <= 100:\n",
        "     print('You have sored A grade')\n",
        "  elif marks >= 101:  #----> we can use both the conditions\n",
        "    print('you have enetered wrong marks')\n",
        "\n",
        "  #some body tries to writes illlegitimate marks\n",
        "  else:\n",
        "    print('ILLEGITIMATE Score')\n",
        "else:\n",
        "  print('You have failed')"
      ],
      "metadata": {
        "colab": {
          "base_uri": "https://localhost:8080/"
        },
        "id": "KCjbhqFPSu22",
        "outputId": "e5f2dc0c-72e2-40d5-f132-aa45bf759cae"
      },
      "execution_count": null,
      "outputs": [
        {
          "output_type": "stream",
          "name": "stdout",
          "text": [
            "50\n",
            "You have scored D grade\n"
          ]
        }
      ]
    },
    {
      "cell_type": "code",
      "source": [
        "#Pass:- is nothing but a null operator when it is executed nothing happens\n",
        "\n",
        "marks = 55\n",
        "passing = 40\n",
        "if marks >= passing:\n",
        "  pass"
      ],
      "metadata": {
        "id": "gaplufJIU912"
      },
      "execution_count": null,
      "outputs": []
    },
    {
      "cell_type": "markdown",
      "source": [
        "#LOOPS"
      ],
      "metadata": {
        "id": "zovJmBtV7JdY"
      }
    },
    {
      "cell_type": "code",
      "source": [
        "#why we use loops?\n",
        "#we use loops to avoid the duplicate code\n",
        "\n",
        "#how many types of code we are having?\n",
        "#1. WET CODE               2. DRY CODE\n",
        "#w-->write                 #D--->don't\n",
        "#e---> everything          #R\n",
        "#t---->twice               #Y"
      ],
      "metadata": {
        "id": "4oDAxNdq7ABT"
      },
      "execution_count": null,
      "outputs": []
    },
    {
      "cell_type": "code",
      "source": [
        "#WHILE LOOP:-WORK/ runs a set of instructions as long as condition remains true\n",
        "#FOR LOOP;-\n",
        "\n",
        "target = 20\n",
        "initial = 0\n",
        "while initial < 20:\n",
        "  print(\"go down\")\n",
        "  print(\"come up\")\n",
        "  print(\"=======Rep completed======\")\n",
        "\n",
        "\n"
      ],
      "metadata": {
        "id": "FljVXjxY8xRA"
      },
      "execution_count": null,
      "outputs": []
    },
    {
      "cell_type": "code",
      "source": [
        "target = 5\n",
        "your_pushups = 0\n",
        "while your_pushups < 5:\n",
        "  print(\"go down\")\n",
        "  print(\"come up\")\n",
        "  print(\"=======Rep completed======\")\n",
        "  your_pushups = your_pushups + 1"
      ],
      "metadata": {
        "colab": {
          "base_uri": "https://localhost:8080/"
        },
        "id": "4Zt2kmlT-78P",
        "outputId": "bc1c5fa7-6845-4193-bfa1-80699d842486"
      },
      "execution_count": null,
      "outputs": [
        {
          "output_type": "stream",
          "name": "stdout",
          "text": [
            "go down\n",
            "come up\n",
            "=======Rep completed======\n",
            "go down\n",
            "come up\n",
            "=======Rep completed======\n",
            "go down\n",
            "come up\n",
            "=======Rep completed======\n",
            "go down\n",
            "come up\n",
            "=======Rep completed======\n",
            "go down\n",
            "come up\n",
            "=======Rep completed======\n"
          ]
        }
      ]
    },
    {
      "cell_type": "code",
      "source": [
        "#write  program for lif by using the loop's concept?\n"
      ],
      "metadata": {
        "id": "g7pToMp9_5y2"
      },
      "execution_count": null,
      "outputs": []
    },
    {
      "cell_type": "code",
      "source": [
        "i = 1\n",
        "while i <= 10:\n",
        "  print(i)\n",
        "  i += 1    # i += 1  # i -= 1\n"
      ],
      "metadata": {
        "colab": {
          "base_uri": "https://localhost:8080/"
        },
        "id": "kjjOhnXGAjpo",
        "outputId": "fe99345e-33a4-4d76-88f6-c7cfe2a845b8"
      },
      "execution_count": null,
      "outputs": [
        {
          "output_type": "stream",
          "name": "stdout",
          "text": [
            "1\n",
            "2\n",
            "3\n",
            "4\n",
            "5\n",
            "6\n",
            "7\n",
            "8\n",
            "9\n",
            "10\n"
          ]
        }
      ]
    },
    {
      "cell_type": "code",
      "source": [
        "i = 0\n",
        "while i <= 10:\n",
        "  print(i)\n",
        "  i -= 1"
      ],
      "metadata": {
        "id": "NufH5OMNBmHD"
      },
      "execution_count": null,
      "outputs": []
    },
    {
      "cell_type": "code",
      "source": [
        "x = input(\"enter the string: \")\n",
        "x_rev = x[::-1]\n",
        "print(f'rev of input string is {x_rev}')\n",
        "if x.lower() == x_rev.lower():\n",
        "  print(f'{x} is palindrome')\n",
        "else:\n",
        "    print(f'{x} is not palindrome')\n"
      ],
      "metadata": {
        "colab": {
          "base_uri": "https://localhost:8080/"
        },
        "id": "IKJGsGqpCZOr",
        "outputId": "7bf0e318-1b86-42ae-a838-ed74b206a993"
      },
      "execution_count": null,
      "outputs": [
        {
          "output_type": "stream",
          "name": "stdout",
          "text": [
            "enter the string: maDAm\n",
            "rev of input string is mADam\n",
            "maDAm is not palindrome\n"
          ]
        }
      ]
    },
    {
      "cell_type": "code",
      "source": [
        "x = input()\n",
        "print(x.lower() == x[::-1].lower())"
      ],
      "metadata": {
        "id": "H07tFGtuEMYm"
      },
      "execution_count": null,
      "outputs": []
    },
    {
      "cell_type": "code",
      "source": [
        "number = [10, 20, 30, 40, 50]\n",
        "print(number*2)"
      ],
      "metadata": {
        "colab": {
          "base_uri": "https://localhost:8080/"
        },
        "id": "bFgJLZO2EiwB",
        "outputId": "c181b5d7-1225-4ba2-8305-3298fd34fe67"
      },
      "execution_count": null,
      "outputs": [
        {
          "output_type": "stream",
          "name": "stdout",
          "text": [
            "[10, 20, 30, 40, 50, 10, 20, 30, 40, 50]\n"
          ]
        }
      ]
    },
    {
      "cell_type": "code",
      "source": [
        "#for loop:-runs set of instruction for all the items in a collection.\n",
        "number = [10, 20, 30, 40, 50]\n",
        "for every_value in number:\n",
        "  print(every_value*2)"
      ],
      "metadata": {
        "colab": {
          "base_uri": "https://localhost:8080/"
        },
        "id": "JFz5n9EpE3yY",
        "outputId": "33f19c58-9d08-4fee-9f8a-296f003da903"
      },
      "execution_count": null,
      "outputs": [
        {
          "output_type": "stream",
          "name": "stdout",
          "text": [
            "20\n",
            "40\n",
            "60\n",
            "80\n",
            "100\n"
          ]
        }
      ]
    },
    {
      "cell_type": "code",
      "source": [
        "number = [10, 20, 30, 40, 50]\n",
        "for every_value in number:\n",
        "  print(\"This is a loop\")\n",
        "  print(every_value)\n",
        "  print(\"=================\")"
      ],
      "metadata": {
        "colab": {
          "base_uri": "https://localhost:8080/"
        },
        "id": "wGmCz1jDGIQA",
        "outputId": "9b5040f6-ed63-4a24-d2f3-13d86d0133e4"
      },
      "execution_count": null,
      "outputs": [
        {
          "output_type": "stream",
          "name": "stdout",
          "text": [
            "This is a loop\n",
            "10\n",
            "=================\n",
            "This is a loop\n",
            "20\n",
            "=================\n",
            "This is a loop\n",
            "30\n",
            "=================\n",
            "This is a loop\n",
            "40\n",
            "=================\n",
            "This is a loop\n",
            "50\n",
            "=================\n"
          ]
        }
      ]
    },
    {
      "cell_type": "code",
      "source": [
        "x = \"hello world\"\n",
        "for letters in x:\n",
        "  print(letters)"
      ],
      "metadata": {
        "colab": {
          "base_uri": "https://localhost:8080/"
        },
        "id": "JyttjrW8GqW4",
        "outputId": "2f3d50fb-e761-4ab2-de98-d447c54d389b"
      },
      "execution_count": null,
      "outputs": [
        {
          "output_type": "stream",
          "name": "stdout",
          "text": [
            "h\n",
            "e\n",
            "l\n",
            "l\n",
            "o\n",
            " \n",
            "w\n",
            "o\n",
            "r\n",
            "l\n",
            "d\n"
          ]
        }
      ]
    },
    {
      "cell_type": "code",
      "source": [
        "#is loops can run through every collection-->True"
      ],
      "metadata": {
        "id": "TbvOX7puG24J"
      },
      "execution_count": null,
      "outputs": []
    },
    {
      "cell_type": "code",
      "source": [
        "#print \"hello world\" 11 times?\n",
        "n = \"hello world\"\n",
        "for i in n:\n",
        "  print(n)"
      ],
      "metadata": {
        "colab": {
          "base_uri": "https://localhost:8080/"
        },
        "id": "1u3-1MbqHLjJ",
        "outputId": "45210a59-3061-44d3-d83e-df69aefd62a2"
      },
      "execution_count": null,
      "outputs": [
        {
          "output_type": "stream",
          "name": "stdout",
          "text": [
            "hello world\n",
            "hello world\n",
            "hello world\n",
            "hello world\n",
            "hello world\n",
            "hello world\n",
            "hello world\n",
            "hello world\n",
            "hello world\n",
            "hello world\n",
            "hello world\n"
          ]
        }
      ]
    },
    {
      "cell_type": "code",
      "source": [
        "#Break :-\n",
        "number = [10,20,30,40,50]\n",
        "for x in number:\n",
        "  print(x)\n",
        "  break\n",
        "\n"
      ],
      "metadata": {
        "colab": {
          "base_uri": "https://localhost:8080/"
        },
        "id": "UVqFL7TpHkON",
        "outputId": "0bc2886e-c1bf-4075-8f33-4de10e613b39"
      },
      "execution_count": null,
      "outputs": [
        {
          "output_type": "stream",
          "name": "stdout",
          "text": [
            "10\n"
          ]
        }
      ]
    },
    {
      "cell_type": "code",
      "source": [
        "number = [10,20,30,40,50]\n",
        "for x in number:\n",
        "  print(x)\n",
        "  if x == 30:\n",
        "    break\n"
      ],
      "metadata": {
        "colab": {
          "base_uri": "https://localhost:8080/"
        },
        "id": "uPOAVxFcISbn",
        "outputId": "e0a80a70-9e55-409f-ab8f-42d211f6b9e5"
      },
      "execution_count": null,
      "outputs": [
        {
          "output_type": "stream",
          "name": "stdout",
          "text": [
            "10\n",
            "20\n",
            "30\n"
          ]
        }
      ]
    },
    {
      "cell_type": "code",
      "source": [
        "#use print after break\n",
        "number = [10,20,30,40,50]\n",
        "for x in number:\n",
        "\n",
        "  if x == 30:\n",
        "    break\n",
        "  print(x)"
      ],
      "metadata": {
        "colab": {
          "base_uri": "https://localhost:8080/"
        },
        "id": "MMPPAXH4IgVV",
        "outputId": "b950456b-934d-46c0-a7bf-e72072a58479"
      },
      "execution_count": null,
      "outputs": [
        {
          "output_type": "stream",
          "name": "stdout",
          "text": [
            "10\n",
            "20\n"
          ]
        }
      ]
    },
    {
      "cell_type": "code",
      "source": [
        "#continue:-\n",
        "\n",
        "number = [10,20,30,40,50]\n",
        "for x in number:\n",
        "  if x == 30:\n",
        "    continue\n",
        "  print(x)"
      ],
      "metadata": {
        "colab": {
          "base_uri": "https://localhost:8080/"
        },
        "id": "iF-zbT-zJhJs",
        "outputId": "925d4646-ca61-4e59-f6ff-1f38bf7c6c5d"
      },
      "execution_count": null,
      "outputs": [
        {
          "output_type": "stream",
          "name": "stdout",
          "text": [
            "10\n",
            "20\n",
            "40\n",
            "50\n"
          ]
        }
      ]
    },
    {
      "cell_type": "code",
      "source": [
        "#multiple continues\n",
        "a = [10,20,30,30, 40,40,50,60,70,80,90]\n",
        "for x in a:\n",
        "  if x in (30,50,70, 80):\n",
        "    continue\n",
        "  print(x)"
      ],
      "metadata": {
        "colab": {
          "base_uri": "https://localhost:8080/"
        },
        "id": "eMDcFV1pKEpH",
        "outputId": "4f70a281-8263-4e31-a11d-5f46eaf234b9"
      },
      "execution_count": null,
      "outputs": [
        {
          "output_type": "stream",
          "name": "stdout",
          "text": [
            "10\n",
            "20\n",
            "40\n",
            "40\n",
            "60\n",
            "90\n"
          ]
        }
      ]
    },
    {
      "cell_type": "code",
      "source": [
        "#1.Range(end)\n",
        "for x in range(10):\n",
        "  print(x)"
      ],
      "metadata": {
        "colab": {
          "base_uri": "https://localhost:8080/"
        },
        "id": "7c0FDYX_Kcgk",
        "outputId": "6a972af6-bf47-4cab-edf4-4694a92a94b3"
      },
      "execution_count": null,
      "outputs": [
        {
          "output_type": "stream",
          "name": "stdout",
          "text": [
            "0\n",
            "1\n",
            "2\n",
            "3\n",
            "4\n",
            "5\n",
            "6\n",
            "7\n",
            "8\n",
            "9\n",
            "10\n"
          ]
        }
      ]
    },
    {
      "cell_type": "code",
      "source": [
        "#print \"hello world 10 times\"\n",
        "for x in range(10):\n",
        "  print('hello world')"
      ],
      "metadata": {
        "colab": {
          "base_uri": "https://localhost:8080/"
        },
        "id": "8KXb8edELng7",
        "outputId": "26b49dee-af70-4e35-9f59-03bedaf5b505"
      },
      "execution_count": null,
      "outputs": [
        {
          "output_type": "stream",
          "name": "stdout",
          "text": [
            "hello world\n",
            "hello world\n",
            "hello world\n",
            "hello world\n",
            "hello world\n",
            "hello world\n",
            "hello world\n",
            "hello world\n",
            "hello world\n",
            "hello world\n"
          ]
        }
      ]
    },
    {
      "cell_type": "code",
      "source": [
        "#range[start:end]\n",
        "for x in range(2, 10):\n",
        "  print(x)\n"
      ],
      "metadata": {
        "colab": {
          "base_uri": "https://localhost:8080/"
        },
        "id": "9p-Rr-IHL7ci",
        "outputId": "ae929c28-3af1-4eff-95a9-609d5893572a"
      },
      "execution_count": null,
      "outputs": [
        {
          "output_type": "stream",
          "name": "stdout",
          "text": [
            "2\n",
            "3\n",
            "4\n",
            "5\n",
            "6\n",
            "7\n",
            "8\n",
            "9\n"
          ]
        }
      ]
    },
    {
      "cell_type": "code",
      "source": [
        "#range[start:end:step]\n",
        "for x in range(2, 10, 2):\n",
        "  print(x)"
      ],
      "metadata": {
        "colab": {
          "base_uri": "https://localhost:8080/"
        },
        "id": "xB2J0NqCMfJK",
        "outputId": "c4054f5b-e69d-4157-9fc9-d33b64dd02c2"
      },
      "execution_count": null,
      "outputs": [
        {
          "output_type": "stream",
          "name": "stdout",
          "text": [
            "2\n",
            "4\n",
            "6\n",
            "8\n"
          ]
        }
      ]
    },
    {
      "cell_type": "code",
      "source": [
        "x = \"hello world\"\n",
        "for i in range(len(x)):\n",
        "  print(x[i])"
      ],
      "metadata": {
        "colab": {
          "base_uri": "https://localhost:8080/"
        },
        "id": "87vtWtG0Msi-",
        "outputId": "607a4ebe-1b6d-4624-a90b-fea1e6f8416f"
      },
      "execution_count": null,
      "outputs": [
        {
          "output_type": "stream",
          "name": "stdout",
          "text": [
            "h\n",
            "e\n",
            "l\n",
            "l\n",
            "o\n",
            " \n",
            "w\n",
            "o\n",
            "r\n",
            "l\n",
            "d\n"
          ]
        }
      ]
    },
    {
      "cell_type": "code",
      "source": [
        "\n",
        "d = {0:'a',1:'b',2:'c'}\n",
        "for i in d:\n",
        "  print(i)\n"
      ],
      "metadata": {
        "colab": {
          "base_uri": "https://localhost:8080/"
        },
        "id": "ZQH-ydzPxBIi",
        "outputId": "336f2d31-61f7-44af-b066-4c3c088eeb30"
      },
      "execution_count": null,
      "outputs": [
        {
          "output_type": "stream",
          "name": "stdout",
          "text": [
            "0\n",
            "1\n",
            "2\n"
          ]
        }
      ]
    },
    {
      "cell_type": "code",
      "source": [],
      "metadata": {
        "id": "KFRTTwUeecex"
      },
      "execution_count": null,
      "outputs": []
    }
  ]
}
